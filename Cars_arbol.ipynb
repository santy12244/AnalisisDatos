{
 "cells": [
  {
   "cell_type": "code",
   "execution_count": 24,
   "id": "0e8493d2-a788-406d-9979-2b70756cd6c1",
   "metadata": {
    "tags": []
   },
   "outputs": [],
   "source": [
    "#Importamos las librerias \n",
    "import pandas as pd\n",
    "import numpy as np\n",
    "import matplotlib.pyplot as plt\n",
    "from sklearn.model_selection import train_test_split\n",
    "from sklearn.tree import DecisionTreeClassifier, plot_tree\n",
    "from sklearn.metrics import accuracy_score\n",
    "from sklearn import tree"
   ]
  },
  {
   "cell_type": "code",
   "execution_count": 25,
   "id": "37c966e1-82b3-402e-9ef2-cc13282cc034",
   "metadata": {
    "tags": []
   },
   "outputs": [],
   "source": [
    "data = pd.read_csv(\"C:/Users/adm_usu/Downloads/cars.csv\", sep=\",\")"
   ]
  },
  {
   "cell_type": "code",
   "execution_count": 26,
   "id": "1821582a-8d3f-4676-a8f8-b6255c8d9c1b",
   "metadata": {
    "tags": []
   },
   "outputs": [
    {
     "data": {
      "text/html": [
       "<div>\n",
       "<style scoped>\n",
       "    .dataframe tbody tr th:only-of-type {\n",
       "        vertical-align: middle;\n",
       "    }\n",
       "\n",
       "    .dataframe tbody tr th {\n",
       "        vertical-align: top;\n",
       "    }\n",
       "\n",
       "    .dataframe thead th {\n",
       "        text-align: right;\n",
       "    }\n",
       "</style>\n",
       "<table border=\"1\" class=\"dataframe\">\n",
       "  <thead>\n",
       "    <tr style=\"text-align: right;\">\n",
       "      <th></th>\n",
       "      <th>make</th>\n",
       "      <th>model</th>\n",
       "      <th>priceUSD</th>\n",
       "      <th>year</th>\n",
       "      <th>condition</th>\n",
       "      <th>mileage(kilometers)</th>\n",
       "      <th>fuel_type</th>\n",
       "      <th>volume(cm3)</th>\n",
       "      <th>color</th>\n",
       "      <th>transmission</th>\n",
       "      <th>drive_unit</th>\n",
       "      <th>segment</th>\n",
       "    </tr>\n",
       "  </thead>\n",
       "  <tbody>\n",
       "    <tr>\n",
       "      <th>0</th>\n",
       "      <td>mazda</td>\n",
       "      <td>2</td>\n",
       "      <td>5500</td>\n",
       "      <td>2008</td>\n",
       "      <td>with mileage</td>\n",
       "      <td>162000.0</td>\n",
       "      <td>petrol</td>\n",
       "      <td>1500.0</td>\n",
       "      <td>burgundy</td>\n",
       "      <td>mechanics</td>\n",
       "      <td>front-wheel drive</td>\n",
       "      <td>B</td>\n",
       "    </tr>\n",
       "    <tr>\n",
       "      <th>1</th>\n",
       "      <td>mazda</td>\n",
       "      <td>2</td>\n",
       "      <td>5350</td>\n",
       "      <td>2009</td>\n",
       "      <td>with mileage</td>\n",
       "      <td>120000.0</td>\n",
       "      <td>petrol</td>\n",
       "      <td>1300.0</td>\n",
       "      <td>black</td>\n",
       "      <td>mechanics</td>\n",
       "      <td>front-wheel drive</td>\n",
       "      <td>B</td>\n",
       "    </tr>\n",
       "    <tr>\n",
       "      <th>2</th>\n",
       "      <td>mazda</td>\n",
       "      <td>2</td>\n",
       "      <td>7000</td>\n",
       "      <td>2009</td>\n",
       "      <td>with mileage</td>\n",
       "      <td>61000.0</td>\n",
       "      <td>petrol</td>\n",
       "      <td>1500.0</td>\n",
       "      <td>silver</td>\n",
       "      <td>auto</td>\n",
       "      <td>front-wheel drive</td>\n",
       "      <td>B</td>\n",
       "    </tr>\n",
       "    <tr>\n",
       "      <th>3</th>\n",
       "      <td>mazda</td>\n",
       "      <td>2</td>\n",
       "      <td>3300</td>\n",
       "      <td>2003</td>\n",
       "      <td>with mileage</td>\n",
       "      <td>265000.0</td>\n",
       "      <td>diesel</td>\n",
       "      <td>1400.0</td>\n",
       "      <td>white</td>\n",
       "      <td>mechanics</td>\n",
       "      <td>front-wheel drive</td>\n",
       "      <td>B</td>\n",
       "    </tr>\n",
       "    <tr>\n",
       "      <th>4</th>\n",
       "      <td>mazda</td>\n",
       "      <td>2</td>\n",
       "      <td>5200</td>\n",
       "      <td>2008</td>\n",
       "      <td>with mileage</td>\n",
       "      <td>97183.0</td>\n",
       "      <td>diesel</td>\n",
       "      <td>1400.0</td>\n",
       "      <td>gray</td>\n",
       "      <td>mechanics</td>\n",
       "      <td>front-wheel drive</td>\n",
       "      <td>B</td>\n",
       "    </tr>\n",
       "  </tbody>\n",
       "</table>\n",
       "</div>"
      ],
      "text/plain": [
       "    make model  priceUSD  year     condition  mileage(kilometers) fuel_type  \\\n",
       "0  mazda     2      5500  2008  with mileage             162000.0    petrol   \n",
       "1  mazda     2      5350  2009  with mileage             120000.0    petrol   \n",
       "2  mazda     2      7000  2009  with mileage              61000.0    petrol   \n",
       "3  mazda     2      3300  2003  with mileage             265000.0    diesel   \n",
       "4  mazda     2      5200  2008  with mileage              97183.0    diesel   \n",
       "\n",
       "   volume(cm3)     color transmission         drive_unit segment  \n",
       "0       1500.0  burgundy    mechanics  front-wheel drive       B  \n",
       "1       1300.0     black    mechanics  front-wheel drive       B  \n",
       "2       1500.0    silver         auto  front-wheel drive       B  \n",
       "3       1400.0     white    mechanics  front-wheel drive       B  \n",
       "4       1400.0      gray    mechanics  front-wheel drive       B  "
      ]
     },
     "execution_count": 26,
     "metadata": {},
     "output_type": "execute_result"
    }
   ],
   "source": [
    "data.head()"
   ]
  },
  {
   "cell_type": "code",
   "execution_count": 27,
   "id": "065eb508-477e-4b9d-82cd-0b52ae77bc2a",
   "metadata": {
    "tags": []
   },
   "outputs": [
    {
     "data": {
      "text/plain": [
       "(56244, 12)"
      ]
     },
     "execution_count": 27,
     "metadata": {},
     "output_type": "execute_result"
    }
   ],
   "source": [
    "data.shape"
   ]
  },
  {
   "cell_type": "code",
   "execution_count": 28,
   "id": "74d52992-0cdc-4423-941d-d04ae932db75",
   "metadata": {
    "tags": []
   },
   "outputs": [
    {
     "data": {
      "text/html": [
       "<div>\n",
       "<style scoped>\n",
       "    .dataframe tbody tr th:only-of-type {\n",
       "        vertical-align: middle;\n",
       "    }\n",
       "\n",
       "    .dataframe tbody tr th {\n",
       "        vertical-align: top;\n",
       "    }\n",
       "\n",
       "    .dataframe thead th {\n",
       "        text-align: right;\n",
       "    }\n",
       "</style>\n",
       "<table border=\"1\" class=\"dataframe\">\n",
       "  <thead>\n",
       "    <tr style=\"text-align: right;\">\n",
       "      <th></th>\n",
       "      <th>priceUSD</th>\n",
       "      <th>year</th>\n",
       "      <th>mileage(kilometers)</th>\n",
       "      <th>volume(cm3)</th>\n",
       "    </tr>\n",
       "  </thead>\n",
       "  <tbody>\n",
       "    <tr>\n",
       "      <th>count</th>\n",
       "      <td>56244.000000</td>\n",
       "      <td>56244.000000</td>\n",
       "      <td>5.624400e+04</td>\n",
       "      <td>56197.000000</td>\n",
       "    </tr>\n",
       "    <tr>\n",
       "      <th>mean</th>\n",
       "      <td>7415.456440</td>\n",
       "      <td>2003.454840</td>\n",
       "      <td>2.443956e+05</td>\n",
       "      <td>2104.860615</td>\n",
       "    </tr>\n",
       "    <tr>\n",
       "      <th>std</th>\n",
       "      <td>8316.959261</td>\n",
       "      <td>8.144247</td>\n",
       "      <td>3.210307e+05</td>\n",
       "      <td>959.201633</td>\n",
       "    </tr>\n",
       "    <tr>\n",
       "      <th>min</th>\n",
       "      <td>48.000000</td>\n",
       "      <td>1910.000000</td>\n",
       "      <td>0.000000e+00</td>\n",
       "      <td>500.000000</td>\n",
       "    </tr>\n",
       "    <tr>\n",
       "      <th>25%</th>\n",
       "      <td>2350.000000</td>\n",
       "      <td>1998.000000</td>\n",
       "      <td>1.370000e+05</td>\n",
       "      <td>1600.000000</td>\n",
       "    </tr>\n",
       "    <tr>\n",
       "      <th>50%</th>\n",
       "      <td>5350.000000</td>\n",
       "      <td>2004.000000</td>\n",
       "      <td>2.285000e+05</td>\n",
       "      <td>1996.000000</td>\n",
       "    </tr>\n",
       "    <tr>\n",
       "      <th>75%</th>\n",
       "      <td>9807.500000</td>\n",
       "      <td>2010.000000</td>\n",
       "      <td>3.100000e+05</td>\n",
       "      <td>2300.000000</td>\n",
       "    </tr>\n",
       "    <tr>\n",
       "      <th>max</th>\n",
       "      <td>235235.000000</td>\n",
       "      <td>2019.000000</td>\n",
       "      <td>9.999999e+06</td>\n",
       "      <td>20000.000000</td>\n",
       "    </tr>\n",
       "  </tbody>\n",
       "</table>\n",
       "</div>"
      ],
      "text/plain": [
       "            priceUSD          year  mileage(kilometers)   volume(cm3)\n",
       "count   56244.000000  56244.000000         5.624400e+04  56197.000000\n",
       "mean     7415.456440   2003.454840         2.443956e+05   2104.860615\n",
       "std      8316.959261      8.144247         3.210307e+05    959.201633\n",
       "min        48.000000   1910.000000         0.000000e+00    500.000000\n",
       "25%      2350.000000   1998.000000         1.370000e+05   1600.000000\n",
       "50%      5350.000000   2004.000000         2.285000e+05   1996.000000\n",
       "75%      9807.500000   2010.000000         3.100000e+05   2300.000000\n",
       "max    235235.000000   2019.000000         9.999999e+06  20000.000000"
      ]
     },
     "execution_count": 28,
     "metadata": {},
     "output_type": "execute_result"
    }
   ],
   "source": [
    "data.describe()"
   ]
  },
  {
   "cell_type": "code",
   "execution_count": 29,
   "id": "cdfda191-11d8-49e7-b095-cae2a2be6145",
   "metadata": {
    "tags": []
   },
   "outputs": [
    {
     "data": {
      "text/plain": [
       "(array([10651.,  5933., 10992., 10325., 11344.,  3658.,  1833.,  1265.,\n",
       "          194.,    49.]),\n",
       " array([ 0. ,  9.5, 19. , 28.5, 38. , 47.5, 57. , 66.5, 76. , 85.5, 95. ]),\n",
       " <BarContainer object of 10 artists>)"
      ]
     },
     "execution_count": 29,
     "metadata": {},
     "output_type": "execute_result"
    },
    {
     "data": {
      "image/png": "[encoded data removed]",
      "text/plain": [
       "<Figure size 640x480 with 1 Axes>"
      ]
     },
     "metadata": {},
     "output_type": "display_data"
    }
   ],
   "source": [
    "plt.hist(data.make)"
   ]
  },
  {
   "cell_type": "code",
   "execution_count": 59,
   "id": "40266c1f-910d-4dae-bbcf-c6c79754cfd0",
   "metadata": {
    "tags": []
   },
   "outputs": [],
   "source": [
    "predictors_col = [\"year\", \"priceUSD\"]\n",
    "target_col = ['make']"
   ]
  },
  {
   "cell_type": "code",
   "execution_count": 60,
   "id": "c2ad6c5a-aeca-4a39-a0ea-1059d411779d",
   "metadata": {
    "tags": []
   },
   "outputs": [],
   "source": [
    "predictors = data[predictors_col]\n",
    "target = data[target_col]"
   ]
  },
  {
   "cell_type": "code",
   "execution_count": 61,
   "id": "3d52f859-d76b-4bbc-b713-7894fd0d60bf",
   "metadata": {
    "tags": []
   },
   "outputs": [],
   "source": [
    "X_train, X_test, y_train, y_test = train_test_split(predictors, target, test_size=0.2, random_state=13)"
   ]
  },
  {
   "cell_type": "code",
   "execution_count": 62,
   "id": "e62770ef-e41f-4e82-8aba-446fab273d30",
   "metadata": {
    "tags": []
   },
   "outputs": [],
   "source": [
    "cars = DecisionTreeClassifier(max_depth=3)"
   ]
  },
  {
   "cell_type": "code",
   "execution_count": 63,
   "id": "fddbcb43-a1eb-4a81-9cda-bc93af20a660",
   "metadata": {
    "tags": []
   },
   "outputs": [
    {
     "data": {
      "text/html": [
       "<style>#sk-container-id-7 {color: black;}#sk-container-id-7 pre{padding: 0;}#sk-container-id-7 div.sk-toggleable {background-color: white;}#sk-container-id-7 label.sk-toggleable__label {cursor: pointer;display: block;width: 100%;margin-bottom: 0;padding: 0.3em;box-sizing: border-box;text-align: center;}#sk-container-id-7 label.sk-toggleable__label-arrow:before {content: \"▸\";float: left;margin-right: 0.25em;color: #696969;}#sk-container-id-7 label.sk-toggleable__label-arrow:hover:before {color: black;}#sk-container-id-7 div.sk-estimator:hover label.sk-toggleable__label-arrow:before {color: black;}#sk-container-id-7 div.sk-toggleable__content {max-height: 0;max-width: 0;overflow: hidden;text-align: left;background-color: #f0f8ff;}#sk-container-id-7 div.sk-toggleable__content pre {margin: 0.2em;color: black;border-radius: 0.25em;background-color: #f0f8ff;}#sk-container-id-7 input.sk-toggleable__control:checked~div.sk-toggleable__content {max-height: 200px;max-width: 100%;overflow: auto;}#sk-container-id-7 input.sk-toggleable__control:checked~label.sk-toggleable__label-arrow:before {content: \"▾\";}#sk-container-id-7 div.sk-estimator input.sk-toggleable__control:checked~label.sk-toggleable__label {background-color: #d4ebff;}#sk-container-id-7 div.sk-label input.sk-toggleable__control:checked~label.sk-toggleable__label {background-color: #d4ebff;}#sk-container-id-7 input.sk-hidden--visually {border: 0;clip: rect(1px 1px 1px 1px);clip: rect(1px, 1px, 1px, 1px);height: 1px;margin: -1px;overflow: hidden;padding: 0;position: absolute;width: 1px;}#sk-container-id-7 div.sk-estimator {font-family: monospace;background-color: #f0f8ff;border: 1px dotted black;border-radius: 0.25em;box-sizing: border-box;margin-bottom: 0.5em;}#sk-container-id-7 div.sk-estimator:hover {background-color: #d4ebff;}#sk-container-id-7 div.sk-parallel-item::after {content: \"\";width: 100%;border-bottom: 1px solid gray;flex-grow: 1;}#sk-container-id-7 div.sk-label:hover label.sk-toggleable__label {background-color: #d4ebff;}#sk-container-id-7 div.sk-serial::before {content: \"\";position: absolute;border-left: 1px solid gray;box-sizing: border-box;top: 0;bottom: 0;left: 50%;z-index: 0;}#sk-container-id-7 div.sk-serial {display: flex;flex-direction: column;align-items: center;background-color: white;padding-right: 0.2em;padding-left: 0.2em;position: relative;}#sk-container-id-7 div.sk-item {position: relative;z-index: 1;}#sk-container-id-7 div.sk-parallel {display: flex;align-items: stretch;justify-content: center;background-color: white;position: relative;}#sk-container-id-7 div.sk-item::before, #sk-container-id-7 div.sk-parallel-item::before {content: \"\";position: absolute;border-left: 1px solid gray;box-sizing: border-box;top: 0;bottom: 0;left: 50%;z-index: -1;}#sk-container-id-7 div.sk-parallel-item {display: flex;flex-direction: column;z-index: 1;position: relative;background-color: white;}#sk-container-id-7 div.sk-parallel-item:first-child::after {align-self: flex-end;width: 50%;}#sk-container-id-7 div.sk-parallel-item:last-child::after {align-self: flex-start;width: 50%;}#sk-container-id-7 div.sk-parallel-item:only-child::after {width: 0;}#sk-container-id-7 div.sk-dashed-wrapped {border: 1px dashed gray;margin: 0 0.4em 0.5em 0.4em;box-sizing: border-box;padding-bottom: 0.4em;background-color: white;}#sk-container-id-7 div.sk-label label {font-family: monospace;font-weight: bold;display: inline-block;line-height: 1.2em;}#sk-container-id-7 div.sk-label-container {text-align: center;}#sk-container-id-7 div.sk-container {/* jupyter's `normalize.less` sets `[hidden] { display: none; }` but bootstrap.min.css set `[hidden] { display: none !important; }` so we also need the `!important` here to be able to override the default hidden behavior on the sphinx rendered scikit-learn.org. See: https://github.com/scikit-learn/scikit-learn/issues/21755 */display: inline-block !important;position: relative;}#sk-container-id-7 div.sk-text-repr-fallback {display: none;}</style><div id=\"sk-container-id-7\" class=\"sk-top-container\"><div class=\"sk-text-repr-fallback\"><pre>DecisionTreeClassifier(max_depth=3)</pre><b>In a Jupyter environment, please rerun this cell to show the HTML representation or trust the notebook. <br />On GitHub, the HTML representation is unable to render, please try loading this page with nbviewer.org.</b></div><div class=\"sk-container\" hidden><div class=\"sk-item\"><div class=\"sk-estimator sk-toggleable\"><input class=\"sk-toggleable__control sk-hidden--visually\" id=\"sk-estimator-id-7\" type=\"checkbox\" checked><label for=\"sk-estimator-id-7\" class=\"sk-toggleable__label sk-toggleable__label-arrow\">DecisionTreeClassifier</label><div class=\"sk-toggleable__content\"><pre>DecisionTreeClassifier(max_depth=3)</pre></div></div></div></div></div>"
      ],
      "text/plain": [
       "DecisionTreeClassifier(max_depth=3)"
      ]
     },
     "execution_count": 63,
     "metadata": {},
     "output_type": "execute_result"
    }
   ],
   "source": [
    "cars.fit(X_train, y_train)"
   ]
  },
  {
   "cell_type": "code",
   "execution_count": 64,
   "id": "e9580f33-5f0c-4915-b1ac-6f6121fad95f",
   "metadata": {
    "tags": []
   },
   "outputs": [],
   "source": [
    "y_pred = cars.predict(X_test)"
   ]
  },
  {
   "cell_type": "code",
   "execution_count": 65,
   "id": "9be4321f-ef8d-46ab-b2f1-04a0691726b7",
   "metadata": {
    "tags": []
   },
   "outputs": [
    {
     "name": "stdout",
     "output_type": "stream",
     "text": [
      "Precisión: 0.14739087918926128\n"
     ]
    }
   ],
   "source": [
    "accuracy = accuracy_score(y_test, y_pred)\n",
    "print(\"Precisión:\", accuracy)"
   ]
  },
  {
   "cell_type": "code",
   "execution_count": 66,
   "id": "40b60e3c-1ce0-4777-9970-849378e79dcf",
   "metadata": {
    "tags": []
   },
   "outputs": [
    {
     "data": {
      "text/plain": [
       "[Text(0.5, 0.875, 'x[1] <= 5862.5\\ngini = 0.947\\nsamples = 44995\\nvalue = [82, 183, 2, 1, 3243, 8, 3224, 1, 2, 68, 3, 54\\n2, 63, 476, 411, 1619, 61, 256, 23, 14, 46, 3\\n728, 2430, 2, 177, 69, 15, 55, 5, 3, 755, 1140\\n204, 8, 24, 10, 64, 158, 964, 817, 93, 273, 288\\n71, 30, 28, 3, 1628, 1, 2822, 6, 5, 83, 1084, 47\\n1802, 2, 3034, 2291, 11, 28, 142, 19, 1, 8, 2988\\n1, 237, 104, 1, 13, 9, 389, 1, 902, 24, 112, 299\\n266, 1, 2, 12, 1749, 1, 110, 5435, 999, 5, 4, 54\\n4]'),\n",
       " Text(0.25, 0.625, 'x[0] <= 1994.5\\ngini = 0.945\\nsamples = 24142\\nvalue = [8, 166, 2, 0, 1700, 0, 1175, 1, 0, 4, 3, 10, 0\\n45, 139, 309, 1148, 34, 254, 21, 9, 29, 3, 678\\n1550, 2, 158, 32, 3, 17, 5, 0, 337, 481, 4, 8\\n19, 10, 6, 37, 351, 688, 80, 39, 6, 21, 15, 28\\n0, 1174, 0, 1081, 4, 0, 13, 644, 44, 889, 2\\n2133, 1696, 11, 20, 4, 19, 1, 0, 2026, 1, 236\\n77, 1, 7, 3, 286, 1, 252, 12, 26, 134, 130, 1\\n2, 0, 453, 1, 95, 2600, 365, 2, 4, 54, 3]'),\n",
       " Text(0.125, 0.375, 'x[1] <= 826.0\\ngini = 0.898\\nsamples = 5523\\nvalue = [0, 5, 2, 0, 895, 0, 335, 0, 0, 1, 0, 0, 0, 0\\n1, 9, 29, 1, 1, 1, 1, 6, 0, 79, 342, 1, 97\\n0, 0, 0, 0, 0, 64, 34, 0, 0, 10, 7, 0, 4, 8\\n365, 5, 2, 3, 0, 0, 28, 0, 240, 0, 364, 1, 0\\n0, 121, 44, 149, 2, 290, 171, 0, 2, 1, 0, 1, 0\\n212, 0, 12, 14, 0, 0, 0, 90, 0, 5, 0, 0, 14\\n3, 0, 0, 0, 85, 1, 35, 1235, 64, 0, 4, 27, 0]'),\n",
       " Text(0.0625, 0.125, 'gini = 0.922\\nsamples = 2041\\nvalue = [0, 3, 0, 0, 167, 0, 26, 0, 0, 0, 0, 0, 0, 0\\n0, 0, 13, 0, 1, 0, 1, 1, 0, 57, 237, 0, 29\\n0, 0, 0, 0, 0, 19, 24, 0, 0, 2, 6, 0, 0, 7\\n250, 2, 0, 0, 0, 0, 10, 0, 148, 0, 49, 0, 0\\n0, 50, 26, 91, 0, 193, 77, 0, 2, 0, 0, 0, 0\\n135, 0, 4, 5, 0, 0, 0, 46, 0, 4, 0, 0, 6, 2\\n0, 0, 0, 26, 1, 1, 262, 36, 0, 2, 20, 0]'),\n",
       " Text(0.1875, 0.125, 'gini = 0.855\\nsamples = 3482\\nvalue = [0, 2, 2, 0, 728, 0, 309, 0, 0, 1, 0, 0, 0, 0\\n1, 9, 16, 1, 0, 1, 0, 5, 0, 22, 105, 1, 68\\n0, 0, 0, 0, 0, 45, 10, 0, 0, 8, 1, 0, 4, 1\\n115, 3, 2, 3, 0, 0, 18, 0, 92, 0, 315, 1, 0\\n0, 71, 18, 58, 2, 97, 94, 0, 0, 1, 0, 1, 0\\n77, 0, 8, 9, 0, 0, 0, 44, 0, 1, 0, 0, 8, 1\\n0, 0, 0, 59, 0, 34, 973, 28, 0, 2, 7, 0]'),\n",
       " Text(0.375, 0.375, 'x[1] <= 2596.5\\ngini = 0.946\\nsamples = 18619\\nvalue = [8, 161, 0, 0, 805, 0, 840, 1, 0, 3, 3, 10, 0\\n45, 138, 300, 1119, 33, 253, 20, 8, 23, 3, 599\\n1208, 1, 61, 32, 3, 17, 5, 0, 273, 447, 4, 8\\n9, 3, 6, 33, 343, 323, 75, 37, 3, 21, 15, 0, 0\\n934, 0, 717, 3, 0, 13, 523, 0, 740, 0, 1843\\n1525, 11, 18, 3, 19, 0, 0, 1814, 1, 224, 63, 1\\n7, 3, 196, 1, 247, 12, 26, 120, 127, 1, 2, 0\\n368, 0, 60, 1365, 301, 2, 0, 27, 3]'),\n",
       " Text(0.3125, 0.125, 'gini = 0.94\\nsamples = 7399\\nvalue = [0, 116, 0, 0, 19, 0, 130, 0, 0, 1, 0, 1, 0\\n18, 25, 91, 476, 13, 217, 12, 0, 13, 0, 408, 603\\n1, 57, 10, 0, 3, 5, 0, 124, 226, 0, 6, 1, 3\\n0, 1, 165, 244, 43, 0, 0, 6, 1, 0, 0, 439, 0\\n122, 2, 0, 0, 316, 0, 393, 0, 714, 476, 9, 1\\n0, 19, 0, 0, 982, 0, 193, 21, 0, 1, 0, 91, 0\\n20, 2, 0, 25, 47, 0, 0, 0, 60, 0, 31, 261, 112\\n1, 0, 22, 0]'),\n",
       " Text(0.4375, 0.125, 'gini = 0.941\\nsamples = 11220\\nvalue = [8, 45, 0, 0, 786, 0, 710, 1, 0, 2, 3, 9, 0\\n27, 113, 209, 643, 20, 36, 8, 8, 10, 3, 191, 605\\n0, 4, 22, 3, 14, 0, 0, 149, 221, 4, 2, 8, 0\\n6, 32, 178, 79, 32, 37, 3, 15, 14, 0, 0, 495\\n0, 595, 1, 0, 13, 207, 0, 347, 0, 1129, 1049, 2\\n17, 3, 0, 0, 0, 832, 1, 31, 42, 1, 6, 3, 105\\n1, 227, 10, 26, 95, 80, 1, 2, 0, 308, 0, 29\\n1104, 189, 1, 0, 5, 3]'),\n",
       " Text(0.75, 0.625, 'x[0] <= 2008.5\\ngini = 0.94\\nsamples = 20853\\nvalue = [74, 17, 0, 1, 1543, 8, 2049, 0, 2, 64, 0, 44\\n2, 18, 337, 102, 471, 27, 2, 2, 5, 17, 0, 50\\n880, 0, 19, 37, 12, 38, 0, 3, 418, 659, 200, 0\\n5, 0, 58, 121, 613, 129, 13, 234, 282, 50, 15, 0\\n3, 454, 1, 1741, 2, 5, 70, 440, 3, 913, 0, 901\\n595, 0, 8, 138, 0, 0, 8, 962, 0, 1, 27, 0, 6\\n6, 103, 0, 650, 12, 86, 165, 136, 0, 0, 12, 1296\\n0, 15, 2835, 634, 3, 0, 0, 1]'),\n",
       " Text(0.625, 0.375, 'x[1] <= 8475.0\\ngini = 0.918\\nsamples = 8470\\nvalue = [44, 12, 0, 1, 869, 1, 1171, 0, 0, 2, 0, 29, 0\\n0, 59, 88, 99, 0, 0, 1, 0, 15, 0, 6, 205, 0\\n19, 0, 6, 11, 0, 0, 193, 183, 127, 0, 4, 0, 13\\n78, 118, 4, 7, 106, 138, 0, 12, 0, 2, 208, 0\\n942, 2, 0, 9, 236, 3, 294, 0, 245, 111, 0, 7\\n61, 0, 0, 0, 89, 0, 1, 24, 0, 5, 5, 54, 0\\n64, 2, 43, 72, 66, 0, 0, 0, 659, 0, 3, 1370\\n272, 0, 0, 0, 0]'),\n",
       " Text(0.5625, 0.125, 'gini = 0.923\\nsamples = 4615\\nvalue = [22, 8, 0, 1, 422, 0, 427, 0, 0, 0, 0, 15, 0\\n0, 20, 60, 74, 0, 0, 1, 0, 1, 0, 5, 150, 0\\n4, 0, 1, 11, 0, 0, 125, 101, 35, 0, 2, 0, 4\\n46, 98, 3, 7, 15, 16, 0, 4, 0, 0, 170, 0, 404\\n0, 0, 7, 142, 1, 173, 0, 211, 105, 0, 6, 17, 0\\n0, 0, 74, 0, 0, 18, 0, 5, 5, 45, 0, 59, 2\\n33, 45, 41, 0, 0, 0, 356, 0, 2, 867, 149, 0, 0\\n0, 0]'),\n",
       " Text(0.6875, 0.125, 'gini = 0.9\\nsamples = 3855\\nvalue = [22, 4, 0, 0, 447, 1, 744, 0, 0, 2, 0, 14, 0\\n0, 39, 28, 25, 0, 0, 0, 0, 14, 0, 1, 55, 0\\n15, 0, 5, 0, 0, 0, 68, 82, 92, 0, 2, 0, 9\\n32, 20, 1, 0, 91, 122, 0, 8, 0, 2, 38, 0, 538\\n2, 0, 2, 94, 2, 121, 0, 34, 6, 0, 1, 44, 0\\n0, 0, 15, 0, 1, 6, 0, 0, 0, 9, 0, 5, 0, 10\\n27, 25, 0, 0, 0, 303, 0, 1, 503, 123, 0, 0, 0\\n0]'),\n",
       " Text(0.875, 0.375, 'x[1] <= 14575.0\\ngini = 0.947\\nsamples = 12383\\nvalue = [30, 5, 0, 0, 674, 7, 878, 0, 2, 62, 0, 15, 2\\n18, 278, 14, 372, 27, 2, 1, 5, 2, 0, 44, 675\\n0, 0, 37, 6, 27, 0, 3, 225, 476, 73, 0, 1, 0\\n45, 43, 495, 125, 6, 128, 144, 50, 3, 0, 1, 246\\n1, 799, 0, 5, 61, 204, 0, 619, 0, 656, 484, 0\\n1, 77, 0, 0, 8, 873, 0, 0, 3, 0, 1, 1, 49, 0\\n586, 10, 43, 93, 70, 0, 0, 12, 637, 0, 12, 1465\\n362, 3, 0, 0, 1]'),\n",
       " Text(0.8125, 0.125, 'gini = 0.939\\nsamples = 7897\\nvalue = [11, 5, 0, 0, 278, 0, 175, 0, 2, 49, 0, 2, 2\\n16, 244, 4, 351, 27, 2, 1, 5, 1, 0, 34, 503, 0\\n0, 25, 0, 25, 0, 0, 143, 333, 12, 0, 0, 0, 8\\n15, 362, 124, 6, 14, 14, 48, 1, 0, 0, 149, 0\\n197, 0, 5, 39, 109, 0, 415, 0, 616, 467, 0, 1\\n3, 0, 0, 8, 796, 0, 0, 1, 0, 1, 0, 47, 0\\n487, 9, 43, 60, 63, 0, 0, 0, 303, 0, 12, 1065\\n156, 3, 0, 0, 0]'),\n",
       " Text(0.9375, 0.125, 'gini = 0.924\\nsamples = 4486\\nvalue = [19, 0, 0, 0, 396, 7, 703, 0, 0, 13, 0, 13, 0\\n2, 34, 10, 21, 0, 0, 0, 0, 1, 0, 10, 172, 0\\n0, 12, 6, 2, 0, 3, 82, 143, 61, 0, 1, 0, 37\\n28, 133, 1, 0, 114, 130, 2, 2, 0, 1, 97, 1\\n602, 0, 0, 22, 95, 0, 204, 0, 40, 17, 0, 0, 74\\n0, 0, 0, 77, 0, 0, 2, 0, 0, 1, 2, 0, 99, 1\\n0, 33, 7, 0, 0, 12, 334, 0, 0, 400, 206, 0, 0\\n0, 1]')]"
      ]
     },
     "execution_count": 66,
     "metadata": {},
     "output_type": "execute_result"
    },
    {
     "data": {
      "image/png": "[encoded data removed]",
      "text/plain": [
       "<Figure size 640x480 with 1 Axes>"
      ]
     },
     "metadata": {},
     "output_type": "display_data"
    }
   ],
   "source": [
    "plot_tree(cars)"
   ]
  },
  {
   "cell_type": "code",
   "execution_count": 67,
   "id": "d6fcf5d2-3a79-47bf-ad6e-9c34ba179419",
   "metadata": {
    "tags": []
   },
   "outputs": [],
   "source": [
    "predicciones = cars.predict(X_test)"
   ]
  },
  {
   "cell_type": "code",
   "execution_count": 68,
   "id": "42a9b5cc-7a5f-4b61-96a8-9ffd203856c4",
   "metadata": {
    "tags": []
   },
   "outputs": [
    {
     "data": {
      "text/html": [
       "<div>\n",
       "<style scoped>\n",
       "    .dataframe tbody tr th:only-of-type {\n",
       "        vertical-align: middle;\n",
       "    }\n",
       "\n",
       "    .dataframe tbody tr th {\n",
       "        vertical-align: top;\n",
       "    }\n",
       "\n",
       "    .dataframe thead th {\n",
       "        text-align: right;\n",
       "    }\n",
       "</style>\n",
       "<table border=\"1\" class=\"dataframe\">\n",
       "  <thead>\n",
       "    <tr style=\"text-align: right;\">\n",
       "      <th>Predicciones</th>\n",
       "      <th>bmw</th>\n",
       "      <th>opel</th>\n",
       "      <th>renault</th>\n",
       "      <th>volkswagen</th>\n",
       "    </tr>\n",
       "    <tr>\n",
       "      <th>Actual</th>\n",
       "      <th></th>\n",
       "      <th></th>\n",
       "      <th></th>\n",
       "      <th></th>\n",
       "    </tr>\n",
       "  </thead>\n",
       "  <tbody>\n",
       "    <tr>\n",
       "      <th>acura</th>\n",
       "      <td>5</td>\n",
       "      <td>1</td>\n",
       "      <td>0</td>\n",
       "      <td>10</td>\n",
       "    </tr>\n",
       "    <tr>\n",
       "      <th>alfa-romeo</th>\n",
       "      <td>1</td>\n",
       "      <td>14</td>\n",
       "      <td>27</td>\n",
       "      <td>2</td>\n",
       "    </tr>\n",
       "    <tr>\n",
       "      <th>aston-martin</th>\n",
       "      <td>1</td>\n",
       "      <td>0</td>\n",
       "      <td>0</td>\n",
       "      <td>0</td>\n",
       "    </tr>\n",
       "    <tr>\n",
       "      <th>audi</th>\n",
       "      <td>232</td>\n",
       "      <td>175</td>\n",
       "      <td>6</td>\n",
       "      <td>374</td>\n",
       "    </tr>\n",
       "    <tr>\n",
       "      <th>bentley</th>\n",
       "      <td>1</td>\n",
       "      <td>0</td>\n",
       "      <td>0</td>\n",
       "      <td>0</td>\n",
       "    </tr>\n",
       "    <tr>\n",
       "      <th>...</th>\n",
       "      <td>...</td>\n",
       "      <td>...</td>\n",
       "      <td>...</td>\n",
       "      <td>...</td>\n",
       "    </tr>\n",
       "    <tr>\n",
       "      <th>volkswagen</th>\n",
       "      <td>228</td>\n",
       "      <td>308</td>\n",
       "      <td>76</td>\n",
       "      <td>814</td>\n",
       "    </tr>\n",
       "    <tr>\n",
       "      <th>volvo</th>\n",
       "      <td>91</td>\n",
       "      <td>40</td>\n",
       "      <td>18</td>\n",
       "      <td>84</td>\n",
       "    </tr>\n",
       "    <tr>\n",
       "      <th>vortex</th>\n",
       "      <td>0</td>\n",
       "      <td>0</td>\n",
       "      <td>1</td>\n",
       "      <td>0</td>\n",
       "    </tr>\n",
       "    <tr>\n",
       "      <th>wartburg</th>\n",
       "      <td>0</td>\n",
       "      <td>0</td>\n",
       "      <td>0</td>\n",
       "      <td>1</td>\n",
       "    </tr>\n",
       "    <tr>\n",
       "      <th>zaz</th>\n",
       "      <td>0</td>\n",
       "      <td>3</td>\n",
       "      <td>7</td>\n",
       "      <td>7</td>\n",
       "    </tr>\n",
       "  </tbody>\n",
       "</table>\n",
       "<p>80 rows × 4 columns</p>\n",
       "</div>"
      ],
      "text/plain": [
       "Predicciones  bmw  opel  renault  volkswagen\n",
       "Actual                                      \n",
       "acura           5     1        0          10\n",
       "alfa-romeo      1    14       27           2\n",
       "aston-martin    1     0        0           0\n",
       "audi          232   175        6         374\n",
       "bentley         1     0        0           0\n",
       "...           ...   ...      ...         ...\n",
       "volkswagen    228   308       76         814\n",
       "volvo          91    40       18          84\n",
       "vortex          0     0        1           0\n",
       "wartburg        0     0        0           1\n",
       "zaz             0     3        7           7\n",
       "\n",
       "[80 rows x 4 columns]"
      ]
     },
     "execution_count": 68,
     "metadata": {},
     "output_type": "execute_result"
    }
   ],
   "source": [
    "# Examinamos la matriz de confusión\n",
    "pd.crosstab(np.array([y[0] for y in y_test.values.tolist()]), predicciones, rownames=['Actual'], colnames=['Predicciones'])"
   ]
  },
  {
   "cell_type": "code",
   "execution_count": null,
   "id": "0843773c-121f-418b-9cfb-dfb46bd205c6",
   "metadata": {},
   "outputs": [],
   "source": []
  }
 ],
 "metadata": {
  "kernelspec": {
   "display_name": "Python 3 (ipykernel)",
   "language": "python",
   "name": "python3"
  },
  "language_info": {
   "codemirror_mode": {
    "name": "ipython",
    "version": 3
   },
   "file_extension": ".py",
   "mimetype": "text/x-python",
   "name": "python",
   "nbconvert_exporter": "python",
   "pygments_lexer": "ipython3",
   "version": "3.11.4"
  }
 },
 "nbformat": 4,
 "nbformat_minor": 5
}
